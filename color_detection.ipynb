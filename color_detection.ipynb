{
 "metadata": {
  "language_info": {
   "codemirror_mode": {
    "name": "ipython",
    "version": 3
   },
   "file_extension": ".py",
   "mimetype": "text/x-python",
   "name": "python",
   "nbconvert_exporter": "python",
   "pygments_lexer": "ipython3",
   "version": "3.7.7"
  },
  "orig_nbformat": 2,
  "kernelspec": {
   "name": "python3",
   "display_name": "Python 3",
   "language": "python"
  }
 },
 "nbformat": 4,
 "nbformat_minor": 2,
 "cells": [
  {
   "cell_type": "code",
   "execution_count": 1,
   "metadata": {},
   "outputs": [
    {
     "output_type": "stream",
     "name": "stdout",
     "text": [
      "Blue detected!\n"
     ]
    }
   ],
   "source": [
    "import cv2\n",
    "import numpy as np\n",
    "# load image\n",
    "img = cv2.imread(\"data/images/train/kerani_3.jpeg\")\n",
    "# Convert to HSV\n",
    "hsv = cv2.cvtColor(img, cv2.COLOR_BGR2HSV)\n",
    "\n",
    "# define range wanted color in HSV\n",
    "lower_val = np.array([50, 50, 200]) \n",
    "upper_val = np.array([200, 200, 255]) \n",
    "\n",
    "# Threshold the HSV image - any green color will show up as white\n",
    "mask = cv2.inRange(hsv, lower_val, upper_val)\n",
    "\n",
    "# if there are any white pixels on mask, sum will be > 0\n",
    "hasBlue = np.sum(mask)\n",
    "if hasBlue > 0:\n",
    "    print('Blue detected!')\n",
    "\n",
    "# show image \n",
    "# apply mask to image\n",
    "res = cv2.bitwise_and(img,img,mask=mask)\n",
    "fin = np.hstack((img,res))\n",
    "# display image\n",
    "cv2.imshow(\"Res\", fin)\n",
    "cv2.imshow(\"Mask\", mask)\n",
    "cv2.waitKey(0)\n",
    "cv2.destroyAllWindows()"
   ]
  }
 ]
}